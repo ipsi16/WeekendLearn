{
 "cells": [
  {
   "cell_type": "markdown",
   "metadata": {},
   "source": [
    "# Service Essentials [1]\n",
    "\n",
    "- Independently develop & deploy services\n",
    "- Services should have their own private data\n",
    "- Keep Services small enough to stay focused and big enough to add value\n",
    "- Store data in databases, not ephemeral service instances\n",
    "- Eventual consistency is your friend\n",
    "- Offload work to asynchronous workers whenever possible\n",
    "- Keep helpful documentation for all services in a common place\n",
    "- Distribute work with load balancers\n",
    "- Aggregation services on network boundaries can translate for the outside world\n",
    "- Layer your security and don't write your own crypto code!\n",
    "\n",
    "# Service Interactions\n",
    "- Transport data over HTTP, serialized using JSON or protobuf\n",
    "- For HTTP services, 500 series errors or timeouts mean the service is unhealthy\n",
    "- APIs should be simple and effective\n",
    "- A service discovery mechanism makes it easy for services to find each other\n",
    "- Prefer decentralized interactions over centralized orchestrators\n",
    "- Version all APIs, colocating multiple versions within the same service instances\n",
    "- Use limits on resources to fail fast before a service gets overloaded\n",
    "- Connection pools can reduce downstream impact of sudden request spikes\n",
    "- Timouts minimize impact from downstream delays and failures\n",
    "- Be tolerant of unrelated downstream API changes\n",
    "- Circuit breakers give downstream services a break during tough times\n",
    "- Correlation IDs help you track requests across service logs\n",
    "- Make sure you can guarantee eventual consistency\n",
    "- Authenticating all API calls provides a clearer picture of usage patterns\n",
    "- Auto retry failed requests with random retry intervals\n",
    "- Only talk to a services through exposed and documented APIs\n",
    "- Economic forces encourage efficient usage of available resources\n",
    "- Client libraries can handle all the basics, so you can focus on what matters\n",
    "\n",
    "# Development\n",
    "- Use a common source control platform for all services\n",
    "- Either mimic prod in dev or use isolated cloud based dev environments\n",
    "- Push working code to mainline often\n",
    "- Release less, release it faster\n",
    "- Warning: shared libraries are painful to update\n",
    "- Your service templates should cover the fundamentals out of the box\n",
    "- Simple services are also easy to replace\n",
    "\n",
    "# Deployment\n",
    "- Use a system image for a deployment package\n",
    "- Have a way to automatically deploy any version of any service to any environment\n",
    "- Feature flags decouple code deployment from feature deployment\n",
    "- Configuration should be managed outside of the deployment package\n",
    "\n",
    "# Operations\n",
    "- Manage all logs in one place\n",
    "- Use a common monitoring platform for all services\n",
    "- Stateless services are easy to auto scale\n",
    "- Dependent services that don't run on your platform also need automation\n",
    "\n",
    "# People\n",
    "- Service teams develop, deploy & operate their own services\n",
    "- Teams should be autonomous in daily operations"
   ]
  },
  {
   "cell_type": "markdown",
   "metadata": {},
   "source": [
    "# References\n",
    "1. [https://www.vinaysahni.com/best-practices-for-building-a-microservice-architecture?fbclid=IwAR1F3CmLLJyTHx4Lt7ff1oFJ4gOoRDYn1vY6kgMM8Inqyr7TGMTjeX7FSMM]"
   ]
  },
  {
   "cell_type": "code",
   "execution_count": null,
   "metadata": {},
   "outputs": [],
   "source": []
  }
 ],
 "metadata": {
  "kernelspec": {
   "display_name": "py37",
   "language": "python",
   "name": "py37"
  },
  "language_info": {
   "codemirror_mode": {
    "name": "ipython",
    "version": 3
   },
   "file_extension": ".py",
   "mimetype": "text/x-python",
   "name": "python",
   "nbconvert_exporter": "python",
   "pygments_lexer": "ipython3",
   "version": "3.7.0"
  }
 },
 "nbformat": 4,
 "nbformat_minor": 2
}
